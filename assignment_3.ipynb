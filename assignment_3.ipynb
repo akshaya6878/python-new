{
  "nbformat": 4,
  "nbformat_minor": 0,
  "metadata": {
    "colab": {
      "name": "assignment 3.ipynb",
      "provenance": [],
      "collapsed_sections": [],
      "authorship_tag": "ABX9TyOWekltwFb1zZe7FlXt9WZe",
      "include_colab_link": true
    },
    "kernelspec": {
      "name": "python3",
      "display_name": "Python 3"
    },
    "language_info": {
      "name": "python"
    }
  },
  "cells": [
    {
      "cell_type": "markdown",
      "metadata": {
        "id": "view-in-github",
        "colab_type": "text"
      },
      "source": [
        "<a href=\"https://colab.research.google.com/github/akshaya6878/python-new/blob/module-1/assignment_3.ipynb\" target=\"_parent\"><img src=\"https://colab.research.google.com/assets/colab-badge.svg\" alt=\"Open In Colab\"/></a>"
      ]
    },
    {
      "cell_type": "markdown",
      "source": [
        "**write a python program to find power of number with recursion and without recursion(input n=2 , p=3)**\n"
      ],
      "metadata": {
        "id": "cBK7UHN4kY6D"
      }
    },
    {
      "cell_type": "code",
      "execution_count": null,
      "metadata": {
        "colab": {
          "base_uri": "https://localhost:8080/"
        },
        "id": "kv5_nonakVDx",
        "outputId": "14c209c0-ce55-4350-f617-a13d441b6e69"
      },
      "outputs": [
        {
          "output_type": "stream",
          "name": "stdout",
          "text": [
            "2 3\n",
            "8\n"
          ]
        }
      ],
      "source": [
        "def pow(a,b):\n",
        "  print(a**b)\n",
        "x,y=map(int,input().split())\n",
        "pow(x,y)"
      ]
    },
    {
      "cell_type": "code",
      "source": [
        "def pow(a,b):\n",
        "  if b==0:\n",
        "    return 1\n",
        "  return(a*pow(a,b-1))\n",
        "a=int(input(\"enter any number\"))\n",
        "b=int(input(\"enter power\"))\n",
        "print(pow(a,b))"
      ],
      "metadata": {
        "colab": {
          "base_uri": "https://localhost:8080/"
        },
        "id": "-R6mdnbOnwRV",
        "outputId": "5e0c936c-a3c1-4769-f6fb-fbd6c25bf0e1"
      },
      "execution_count": null,
      "outputs": [
        {
          "output_type": "stream",
          "name": "stdout",
          "text": [
            "enter any number2\n",
            "enter power3\n",
            "8\n"
          ]
        }
      ]
    },
    {
      "cell_type": "markdown",
      "source": [
        "**write a program to sort tuple by total digits (input: list=[(3,4,6,723),(1,2),(134,234,34)])\n",
        "      output:[(1,2)(3,4,6,723)(34,134,234)]**\n",
        "      "
      ],
      "metadata": {
        "id": "Aqc_H86splzD"
      }
    },
    {
      "cell_type": "code",
      "source": [
        "a=eval(input(\"enter list of tupples\"))\n",
        "print(sorted(a))"
      ],
      "metadata": {
        "colab": {
          "base_uri": "https://localhost:8080/"
        },
        "id": "1TkhtOzJppDS",
        "outputId": "8975af82-e074-4718-95bc-1794d44e65b4"
      },
      "execution_count": null,
      "outputs": [
        {
          "output_type": "stream",
          "name": "stdout",
          "text": [
            "enter list of tuples[(3,4,6,723),(1,2),(134,234,34)]\n",
            "[(1, 2), (3, 4, 6, 723), (134, 234, 34)]\n"
          ]
        }
      ]
    },
    {
      "cell_type": "code",
      "source": [
        "a=[(3,4,6,723),(1,2),(134,234,34)]\n",
        "a.sort()\n",
        "print(a)"
      ],
      "metadata": {
        "colab": {
          "base_uri": "https://localhost:8080/"
        },
        "id": "gtZmOEWGrlRD",
        "outputId": "a035f6f2-5185-42ab-f8d7-bee89c4ce2be"
      },
      "execution_count": null,
      "outputs": [
        {
          "output_type": "stream",
          "name": "stdout",
          "text": [
            "[(1, 2), (3, 4, 6, 723), (134, 234, 34)]\n"
          ]
        }
      ]
    },
    {
      "cell_type": "code",
      "source": [
        "a=eval(input(\"enter list of tuples\"))\n",
        "for i in range(0,len(a)):\n",
        "  a[i]=sorted(a[i])\n",
        "print(sorted(a))"
      ],
      "metadata": {
        "colab": {
          "base_uri": "https://localhost:8080/"
        },
        "id": "-tKuGvRLuYhy",
        "outputId": "2e55fa79-4b76-446c-a134-d37989356cae"
      },
      "execution_count": null,
      "outputs": [
        {
          "output_type": "stream",
          "name": "stdout",
          "text": [
            "enter list of tuples[(3,4,6,723),(1,2),(134,234,34)]\n",
            "[[1, 2], [3, 4, 6, 723], [34, 134, 234]]\n"
          ]
        }
      ]
    },
    {
      "cell_type": "markdown",
      "source": [
        "**take five subjects from the user and display the grade of the student,if average is 90-100(o),80-89(a+),70-79(a)...**"
      ],
      "metadata": {
        "id": "b1bR-vdCshCD"
      }
    },
    {
      "cell_type": "code",
      "source": [
        "sub1=int(input(\"enter marks\"))\n",
        "sub2=int(input(\"enter marks\"))\n",
        "sub3=int(input(\"enter marks\"))\n",
        "sub4=int(input(\"enter marks\"))\n",
        "sub5=int(input(\"enter marks\"))\n",
        "avg=(sub1+sub2+sub3+sub4+sub5)/5\n",
        "if(avg>=90):\n",
        "  print(\"grade A\")\n",
        "elif(avg>=80 and avg<90):\n",
        "  print(\"grade B\")\n",
        "elif(avg>=70 and avg<80):\n",
        "    print(\"grade C\")\n",
        "elif(avg>=60 and avg<70):\n",
        "  print(\"grade D\")\n",
        "else:\n",
        "    print(\"grade E\")\n",
        "\n"
      ],
      "metadata": {
        "id": "mvJBPEuHsi5p",
        "colab": {
          "base_uri": "https://localhost:8080/"
        },
        "outputId": "d7b01e17-8cff-4486-975a-f5201de6bdf5"
      },
      "execution_count": null,
      "outputs": [
        {
          "output_type": "stream",
          "name": "stdout",
          "text": [
            "enter marks98\n",
            "enter marks89\n",
            "enter marks78\n",
            "enter marks98\n",
            "enter marks78\n",
            "grade B\n"
          ]
        }
      ]
    },
    {
      "cell_type": "markdown",
      "source": [
        "**write a python program that prints 1 if all three given numbers are ascending order**"
      ],
      "metadata": {
        "id": "KyFytlyDsldj"
      }
    },
    {
      "cell_type": "code",
      "source": [
        "a,b,c=map(int,input().split())\n",
        "if c>b and b>a:\n",
        "  print(1)"
      ],
      "metadata": {
        "colab": {
          "base_uri": "https://localhost:8080/"
        },
        "id": "IXPJl1AEvWI5",
        "outputId": "4d7b2af3-e260-447e-d1d8-a8ddaada5992"
      },
      "execution_count": null,
      "outputs": [
        {
          "name": "stdout",
          "output_type": "stream",
          "text": [
            "4 3 7\n"
          ]
        }
      ]
    },
    {
      "cell_type": "markdown",
      "source": [
        "**check a given number is perfect number are not**"
      ],
      "metadata": {
        "id": "mL50II77x2bh"
      }
    },
    {
      "cell_type": "code",
      "source": [
        "a=int(input(\"enter the number\"))\n",
        "sum=0\n",
        "for i in range (1,a):\n",
        "  if a%i==0:\n",
        "    sum=sum+i\n",
        "    if sum==a:\n",
        "      print(\"perfect number\")\n",
        "else:\n",
        "          print(\"not a perfect number\")"
      ],
      "metadata": {
        "id": "lpYwC7Wsx4cX",
        "colab": {
          "base_uri": "https://localhost:8080/"
        },
        "outputId": "150494b3-014f-4226-f9fa-eb6ccc54026d"
      },
      "execution_count": null,
      "outputs": [
        {
          "output_type": "stream",
          "name": "stdout",
          "text": [
            "enter the number45\n",
            "not a perfect number\n"
          ]
        }
      ]
    },
    {
      "cell_type": "markdown",
      "source": [
        "**check a given string is a pallindrome or not**"
      ],
      "metadata": {
        "id": "R1m8UC9ay-Qx"
      }
    },
    {
      "cell_type": "code",
      "source": [
        ""
      ],
      "metadata": {
        "id": "YbvQFP0ozETI"
      },
      "execution_count": null,
      "outputs": []
    }
  ]
}