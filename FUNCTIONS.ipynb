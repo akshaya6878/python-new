{
  "nbformat": 4,
  "nbformat_minor": 0,
  "metadata": {
    "colab": {
      "name": "FUNCTIONS.ipynb",
      "provenance": [],
      "collapsed_sections": [],
      "authorship_tag": "ABX9TyPMtxnn0l9tOZqupcxDYNj4",
      "include_colab_link": true
    },
    "kernelspec": {
      "name": "python3",
      "display_name": "Python 3"
    },
    "language_info": {
      "name": "python"
    }
  },
  "cells": [
    {
      "cell_type": "markdown",
      "metadata": {
        "id": "view-in-github",
        "colab_type": "text"
      },
      "source": [
        "<a href=\"https://colab.research.google.com/github/akshaya6878/python-new/blob/module-2/FUNCTIONS.ipynb\" target=\"_parent\"><img src=\"https://colab.research.google.com/assets/colab-badge.svg\" alt=\"Open In Colab\"/></a>"
      ]
    },
    {
      "cell_type": "code",
      "execution_count": null,
      "metadata": {
        "colab": {
          "base_uri": "https://localhost:8080/"
        },
        "id": "863BZn-jUrKJ",
        "outputId": "fc770628-caf6-4743-bc27-7386444c76fc"
      },
      "outputs": [
        {
          "output_type": "stream",
          "name": "stdout",
          "text": [
            "hello,world!\n"
          ]
        }
      ],
      "source": [
        "def akshaya():\n",
        "  print(\"hello,world!\")\n",
        "akshaya()"
      ]
    },
    {
      "cell_type": "markdown",
      "source": [
        "**arguments**"
      ],
      "metadata": {
        "id": "dSxXxJC0W4xj"
      }
    },
    {
      "cell_type": "code",
      "source": [
        "def function(name):\n",
        " print(name+\"monangi\")\n",
        "function(\"akshaya\")\n",
        "function(\"akanksha\")\n"
      ],
      "metadata": {
        "colab": {
          "base_uri": "https://localhost:8080/"
        },
        "id": "YA1gYbvdW_Vx",
        "outputId": "27c42df6-e372-40cb-8c5d-34fc6bb0661e"
      },
      "execution_count": null,
      "outputs": [
        {
          "output_type": "stream",
          "name": "stdout",
          "text": [
            "akshayamonangi\n",
            "akankshamonangi\n"
          ]
        }
      ]
    },
    {
      "cell_type": "code",
      "source": [
        "def function(fword,lword):\n",
        " print(fword+\"\"+lword)\n",
        "function(\"green\",\"apple\")\n"
      ],
      "metadata": {
        "id": "BGlI6595YGD6",
        "colab": {
          "base_uri": "https://localhost:8080/"
        },
        "outputId": "306e047c-432e-4538-842e-92ef5c90a382"
      },
      "execution_count": null,
      "outputs": [
        {
          "output_type": "stream",
          "name": "stdout",
          "text": [
            "greenapple\n"
          ]
        }
      ]
    },
    {
      "cell_type": "markdown",
      "source": [
        "**aribitary arguments**"
      ],
      "metadata": {
        "id": "jHoTewqGh-VD"
      }
    },
    {
      "cell_type": "code",
      "source": [
        "def function(*fruits):\n",
        " print(\"the fruit in red colour is \"+fruits[1])\n",
        "function(\"orange\",\"cherry\",\"papaya\",\"mango\")"
      ],
      "metadata": {
        "colab": {
          "base_uri": "https://localhost:8080/"
        },
        "id": "K_gMT-DWiMJX",
        "outputId": "9900188a-3a3a-4d78-d216-37d374f2b9b4"
      },
      "execution_count": null,
      "outputs": [
        {
          "output_type": "stream",
          "name": "stdout",
          "text": [
            "the fruit in red colour is cherry\n"
          ]
        }
      ]
    },
    {
      "cell_type": "code",
      "source": [
        "def function(fruit1,fruit2,fruit3,fruit4):\n",
        "  print(\"the fruit in red colour is\"+fruit2)\n",
        "function(fruit1=\"orange\",fruit2=\"cherry\",fruit3=\"papaya\",fruit4=\"mango\")"
      ],
      "metadata": {
        "colab": {
          "base_uri": "https://localhost:8080/"
        },
        "id": "bclg--LajeKw",
        "outputId": "eb644083-ca67-476f-ca12-68fee93c8f06"
      },
      "execution_count": null,
      "outputs": [
        {
          "output_type": "stream",
          "name": "stdout",
          "text": [
            "the fruit in red colour ischerry\n"
          ]
        }
      ]
    },
    {
      "cell_type": "markdown",
      "source": [
        "**default parameter**"
      ],
      "metadata": {
        "id": "GUOEyJjfknT5"
      }
    },
    {
      "cell_type": "code",
      "source": [
        "def function(name=\"akshaya\"):\n",
        "  print(\"i am \"+name)\n",
        "function(\"akanksha\")\n",
        "function(\"asritha\")\n",
        "function()\n",
        "function(\"akash\")"
      ],
      "metadata": {
        "colab": {
          "base_uri": "https://localhost:8080/"
        },
        "id": "MFWsV5w6kr-_",
        "outputId": "ac0c8b7d-44e0-44be-8589-9e1b84826b94"
      },
      "execution_count": null,
      "outputs": [
        {
          "output_type": "stream",
          "name": "stdout",
          "text": [
            "i am akanksha\n",
            "i am asritha\n",
            "i am akshaya\n",
            "i am akash\n"
          ]
        }
      ]
    },
    {
      "cell_type": "markdown",
      "source": [
        "**passing list of arguments**"
      ],
      "metadata": {
        "id": "7w-FulEZm7oY"
      }
    },
    {
      "cell_type": "code",
      "source": [
        "def function(areas):\n",
        "  for x in areas:\n",
        "    print(x)\n",
        "\n",
        "\n",
        "city=[\"vizag\",\"hyderbad\",\"pune\"]\n",
        "\n",
        "function(city) "
      ],
      "metadata": {
        "colab": {
          "base_uri": "https://localhost:8080/"
        },
        "id": "tk6dhbGjpRpP",
        "outputId": "673201b1-c0e1-4c79-d816-c6212db81a6a"
      },
      "execution_count": null,
      "outputs": [
        {
          "output_type": "stream",
          "name": "stdout",
          "text": [
            "vizag\n",
            "hyderbad\n",
            "pune\n"
          ]
        }
      ]
    },
    {
      "cell_type": "markdown",
      "source": [
        "**return values**"
      ],
      "metadata": {
        "id": "OdaG3Vlbq4SO"
      }
    },
    {
      "cell_type": "code",
      "source": [
        "def function(a):\n",
        " return 2*a \n",
        "print(function(5))\n",
        "print(function(8))\n",
        "print(function(9))"
      ],
      "metadata": {
        "id": "HzQliNXCq880",
        "colab": {
          "base_uri": "https://localhost:8080/"
        },
        "outputId": "7089c288-3721-400d-fedc-be64002610d9"
      },
      "execution_count": null,
      "outputs": [
        {
          "output_type": "stream",
          "name": "stdout",
          "text": [
            "10\n",
            "16\n",
            "18\n"
          ]
        }
      ]
    },
    {
      "cell_type": "markdown",
      "source": [
        "**the pass statement**"
      ],
      "metadata": {
        "id": "_Mu66qwvzzR2"
      }
    },
    {
      "cell_type": "code",
      "source": [
        "def function():\n",
        "  pass"
      ],
      "metadata": {
        "id": "v8VdLQb7z2MJ"
      },
      "execution_count": null,
      "outputs": []
    }
  ]
}