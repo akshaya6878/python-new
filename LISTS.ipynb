{
  "nbformat": 4,
  "nbformat_minor": 0,
  "metadata": {
    "colab": {
      "name": "LISTS.ipynb",
      "provenance": [],
      "authorship_tag": "ABX9TyNE/zAk8wBkH4K1j4lQioI+",
      "include_colab_link": true
    },
    "kernelspec": {
      "name": "python3",
      "display_name": "Python 3"
    },
    "language_info": {
      "name": "python"
    }
  },
  "cells": [
    {
      "cell_type": "markdown",
      "metadata": {
        "id": "view-in-github",
        "colab_type": "text"
      },
      "source": [
        "<a href=\"https://colab.research.google.com/github/akshaya6878/python-new/blob/module-2/LISTS.ipynb\" target=\"_parent\"><img src=\"https://colab.research.google.com/assets/colab-badge.svg\" alt=\"Open In Colab\"/></a>"
      ]
    },
    {
      "cell_type": "markdown",
      "source": [
        "**LISTS**"
      ],
      "metadata": {
        "id": "x5qTZllaYw2Q"
      }
    },
    {
      "cell_type": "code",
      "execution_count": null,
      "metadata": {
        "colab": {
          "base_uri": "https://localhost:8080/"
        },
        "id": "1X503FLHYqFO",
        "outputId": "4632ed3b-da8a-4664-aaab-f85dd88780d6"
      },
      "outputs": [
        {
          "output_type": "stream",
          "name": "stdout",
          "text": [
            "['red', 'green', 'blue']\n"
          ]
        }
      ],
      "source": [
        "colours=[\"red\",\"green\",\"blue\"]\n",
        "print(colours)"
      ]
    },
    {
      "cell_type": "markdown",
      "source": [
        "**duplicates**\n"
      ],
      "metadata": {
        "id": "OaeFBRbkZZMf"
      }
    },
    {
      "cell_type": "code",
      "source": [
        "colours=[\"red\",\"green\",\"blue\",\"pink\",\"red\",\"blue\"]\n",
        "print(colours)"
      ],
      "metadata": {
        "colab": {
          "base_uri": "https://localhost:8080/"
        },
        "id": "trSHH7zIZEur",
        "outputId": "e2d3b4cb-d6ff-42ee-afc6-59aa2e3ebaca"
      },
      "execution_count": null,
      "outputs": [
        {
          "output_type": "stream",
          "name": "stdout",
          "text": [
            "['red', 'green', 'blue', 'pink', 'red', 'blue']\n"
          ]
        }
      ]
    },
    {
      "cell_type": "markdown",
      "source": [
        "**list length**"
      ],
      "metadata": {
        "id": "lb-5-2YaZgJY"
      }
    },
    {
      "cell_type": "code",
      "source": [
        "colours=[\"red\",\"green\",\"blue\"]\n",
        "print(len(colours))"
      ],
      "metadata": {
        "colab": {
          "base_uri": "https://localhost:8080/"
        },
        "id": "MsGnVQndZjHQ",
        "outputId": "d60f1a27-5d69-4134-b94b-2f724c801c7b"
      },
      "execution_count": null,
      "outputs": [
        {
          "output_type": "stream",
          "name": "stdout",
          "text": [
            "3\n"
          ]
        }
      ]
    },
    {
      "cell_type": "markdown",
      "source": [
        "**list type**"
      ],
      "metadata": {
        "id": "yXnqN_KPZtAU"
      }
    },
    {
      "cell_type": "code",
      "source": [
        "colours=[\"red\",\"green\",\"blue\"]\n",
        "print(type(colours))"
      ],
      "metadata": {
        "colab": {
          "base_uri": "https://localhost:8080/"
        },
        "id": "x_NRwtEfZmMM",
        "outputId": "d80dd724-444a-4b36-b27b-0b91ab5f698d"
      },
      "execution_count": null,
      "outputs": [
        {
          "output_type": "stream",
          "name": "stdout",
          "text": [
            "<class 'list'>\n"
          ]
        }
      ]
    },
    {
      "cell_type": "markdown",
      "source": [
        "**list constructor**"
      ],
      "metadata": {
        "id": "TYLfXHRKZ0CH"
      }
    },
    {
      "cell_type": "code",
      "source": [
        "colours=list((\"red\",\"green\",\"blue\"))\n",
        "print(colours)"
      ],
      "metadata": {
        "colab": {
          "base_uri": "https://localhost:8080/"
        },
        "id": "BnKMcJYPZ4aT",
        "outputId": "95749b03-38b6-4ecc-d5f1-2d52f178f763"
      },
      "execution_count": null,
      "outputs": [
        {
          "output_type": "stream",
          "name": "stdout",
          "text": [
            "['red', 'green', 'blue']\n"
          ]
        }
      ]
    },
    {
      "cell_type": "markdown",
      "source": [
        "**acess lists**"
      ],
      "metadata": {
        "id": "ito2lRvbaJLl"
      }
    },
    {
      "cell_type": "code",
      "source": [
        "colours=[\"red\",\"green\",\"blue\"]\n",
        "print(colours[2])"
      ],
      "metadata": {
        "colab": {
          "base_uri": "https://localhost:8080/"
        },
        "id": "gcQKK1tfaLGI",
        "outputId": "56471ecc-ee64-488a-f1fc-b1c1ca282eea"
      },
      "execution_count": null,
      "outputs": [
        {
          "output_type": "stream",
          "name": "stdout",
          "text": [
            "blue\n"
          ]
        }
      ]
    },
    {
      "cell_type": "code",
      "source": [
        "colours=[\"red\",\"green\",\"blue\"]\n",
        "print(colours[-1])"
      ],
      "metadata": {
        "colab": {
          "base_uri": "https://localhost:8080/"
        },
        "id": "1rMwMqtFadpf",
        "outputId": "4bac8215-bcd0-46fe-9475-ddfbc6d42815"
      },
      "execution_count": null,
      "outputs": [
        {
          "output_type": "stream",
          "name": "stdout",
          "text": [
            "blue\n"
          ]
        }
      ]
    },
    {
      "cell_type": "code",
      "source": [
        "colours=[\"red\",\"green\",\"blue\",\"yellow\",\"orange\",\"black\"]\n",
        "print(colours[2:5])"
      ],
      "metadata": {
        "colab": {
          "base_uri": "https://localhost:8080/"
        },
        "id": "c7wJEltRak-B",
        "outputId": "cca67898-b040-4063-f6fc-e08bc3b45681"
      },
      "execution_count": null,
      "outputs": [
        {
          "output_type": "stream",
          "name": "stdout",
          "text": [
            "['blue', 'yellow', 'orange']\n"
          ]
        }
      ]
    },
    {
      "cell_type": "code",
      "source": [
        "colours=[\"red\",\"green\",\"blue\",\"yellow\",\"orange\",\"black\"]\n",
        "print(colours[:4])"
      ],
      "metadata": {
        "colab": {
          "base_uri": "https://localhost:8080/"
        },
        "id": "MaOtraHza3oZ",
        "outputId": "46f1ef08-02c8-4a2e-fa34-07d8868d63bf"
      },
      "execution_count": null,
      "outputs": [
        {
          "output_type": "stream",
          "name": "stdout",
          "text": [
            "['red', 'green', 'blue', 'yellow']\n"
          ]
        }
      ]
    },
    {
      "cell_type": "code",
      "source": [
        "colours=[\"red\",\"green\",\"blue\",\"yellow\",\"orange\",\"black\"]\n",
        "print(colours[2:])"
      ],
      "metadata": {
        "colab": {
          "base_uri": "https://localhost:8080/"
        },
        "id": "FQAyupXsbDW9",
        "outputId": "3fbbe483-f46d-4736-ea27-9316bb5f5432"
      },
      "execution_count": null,
      "outputs": [
        {
          "output_type": "stream",
          "name": "stdout",
          "text": [
            "['blue', 'yellow', 'orange', 'black']\n"
          ]
        }
      ]
    },
    {
      "cell_type": "markdown",
      "source": [
        "**change list**"
      ],
      "metadata": {
        "id": "NA-UpfPBbJ8w"
      }
    },
    {
      "cell_type": "code",
      "source": [
        "colours=[\"red\",\"green\",\"blue\",\"yellow\",\"orange\"]\n",
        "colours[2]=\"violet\"\n",
        "print(colours)"
      ],
      "metadata": {
        "colab": {
          "base_uri": "https://localhost:8080/"
        },
        "id": "nVETIGVebNBf",
        "outputId": "e50a9e97-6047-49d6-9bfd-3039a9bff994"
      },
      "execution_count": null,
      "outputs": [
        {
          "output_type": "stream",
          "name": "stdout",
          "text": [
            "['red', 'green', 'violet', 'yellow', 'orange']\n"
          ]
        }
      ]
    },
    {
      "cell_type": "code",
      "source": [
        "colours=[\"red\",\"green\",\"blue\",\"yellow\",\"orange\"]\n",
        "colours[1:3]=\"violet\",\"black\"\n",
        "print(colours)"
      ],
      "metadata": {
        "colab": {
          "base_uri": "https://localhost:8080/"
        },
        "id": "obABsfebb1oI",
        "outputId": "32fa2330-4c75-4c07-e94f-b9b4e01bf5b3"
      },
      "execution_count": null,
      "outputs": [
        {
          "output_type": "stream",
          "name": "stdout",
          "text": [
            "['red', 'violet', 'black', 'yellow', 'orange']\n"
          ]
        }
      ]
    },
    {
      "cell_type": "code",
      "source": [
        "colours=[\"red\",\"green\",\"blue\"]\n",
        "colours[1:3]=[\"pink\"]\n",
        "print(colours)"
      ],
      "metadata": {
        "colab": {
          "base_uri": "https://localhost:8080/"
        },
        "id": "sgc7TuPjcF01",
        "outputId": "2007f6d2-5191-436d-ae74-053848a14217"
      },
      "execution_count": null,
      "outputs": [
        {
          "output_type": "stream",
          "name": "stdout",
          "text": [
            "['red', 'pink']\n"
          ]
        }
      ]
    },
    {
      "cell_type": "markdown",
      "source": [
        "**append items**\n"
      ],
      "metadata": {
        "id": "pNtnqGRHcu52"
      }
    },
    {
      "cell_type": "code",
      "source": [
        "colours=[\"red\",\"green\",\"blue\"]\n",
        "colours.append(\"black\")\n",
        "print(colours)"
      ],
      "metadata": {
        "colab": {
          "base_uri": "https://localhost:8080/"
        },
        "id": "T_m8bbnncnur",
        "outputId": "54872565-5c05-4484-9363-61070ab713af"
      },
      "execution_count": null,
      "outputs": [
        {
          "output_type": "stream",
          "name": "stdout",
          "text": [
            "['red', 'green', 'blue', 'black']\n"
          ]
        }
      ]
    },
    {
      "cell_type": "markdown",
      "source": [
        "**insert items**\n"
      ],
      "metadata": {
        "id": "KGpYOhlzdOX7"
      }
    },
    {
      "cell_type": "code",
      "source": [
        "colours=[\"red\",\"green\",\"blue\"]\n",
        "colours.insert(1,\"orange\")\n",
        "print(colours)"
      ],
      "metadata": {
        "colab": {
          "base_uri": "https://localhost:8080/"
        },
        "id": "xzp7bdZldFgx",
        "outputId": "79c4a47a-fba0-4eb2-8563-59f055506c7f"
      },
      "execution_count": null,
      "outputs": [
        {
          "output_type": "stream",
          "name": "stdout",
          "text": [
            "['red', 'orange', 'green', 'blue']\n"
          ]
        }
      ]
    },
    {
      "cell_type": "code",
      "source": [
        "thislist = [\"apple\", \"banana\", \"cherry\"]\n",
        "tropical = [\"mango\", \"pineapple\", \"papaya\"]\n",
        "thislist.extend(tropical)\n",
        "print(thislist)\n"
      ],
      "metadata": {
        "colab": {
          "base_uri": "https://localhost:8080/"
        },
        "id": "hkO0RTZ2eWWk",
        "outputId": "acd05360-6819-4d04-f3c1-083a3a506dd3"
      },
      "execution_count": null,
      "outputs": [
        {
          "output_type": "stream",
          "name": "stdout",
          "text": [
            "['apple', 'banana', 'cherry', 'mango', 'pineapple', 'papaya']\n"
          ]
        }
      ]
    },
    {
      "cell_type": "markdown",
      "source": [
        "**remove items**"
      ],
      "metadata": {
        "id": "nM-tzNiJfE0j"
      }
    },
    {
      "cell_type": "code",
      "source": [
        "colours=[\"red\",\"green\",\"blue\"]\n",
        "colours.remove(\"blue\")\n",
        "print(colours)"
      ],
      "metadata": {
        "colab": {
          "base_uri": "https://localhost:8080/"
        },
        "id": "2tDAMkCdfHmy",
        "outputId": "b7e7c5b1-5701-4379-85db-6985f8010ec8"
      },
      "execution_count": null,
      "outputs": [
        {
          "output_type": "stream",
          "name": "stdout",
          "text": [
            "['red', 'green']\n"
          ]
        }
      ]
    },
    {
      "cell_type": "code",
      "source": [
        "colours=[\"red\",\"green\",\"blue\"]\n",
        "colours.pop(1)\n",
        "print(colours)"
      ],
      "metadata": {
        "colab": {
          "base_uri": "https://localhost:8080/"
        },
        "id": "JjxBYUerfW5_",
        "outputId": "501365cb-d4bd-4f42-b7da-bc77dbca2378"
      },
      "execution_count": null,
      "outputs": [
        {
          "output_type": "stream",
          "name": "stdout",
          "text": [
            "['red', 'blue']\n"
          ]
        }
      ]
    },
    {
      "cell_type": "code",
      "source": [
        "colours=[\"red\",\"green\",\"blue\"]\n",
        "colours.pop()\n",
        "print(colours)"
      ],
      "metadata": {
        "colab": {
          "base_uri": "https://localhost:8080/"
        },
        "id": "SIvKDN12fcmi",
        "outputId": "be70dc3e-0311-4c77-9131-34e649e9668c"
      },
      "execution_count": null,
      "outputs": [
        {
          "output_type": "stream",
          "name": "stdout",
          "text": [
            "['red', 'green']\n"
          ]
        }
      ]
    },
    {
      "cell_type": "code",
      "source": [
        "colours=[\"red\",\"green\",\"blue\"]\n",
        "del colours[0]\n",
        "print(colours)"
      ],
      "metadata": {
        "colab": {
          "base_uri": "https://localhost:8080/"
        },
        "id": "IncMPtKzfid7",
        "outputId": "a7c22e0d-32a0-4f52-d1ac-10cb5e9dfa5a"
      },
      "execution_count": null,
      "outputs": [
        {
          "output_type": "stream",
          "name": "stdout",
          "text": [
            "['green', 'blue']\n"
          ]
        }
      ]
    },
    {
      "cell_type": "code",
      "source": [
        "colours=[\"red\",\"green\",\"blue\"]\n",
        "del colours\n",
        "print(colours)"
      ],
      "metadata": {
        "colab": {
          "base_uri": "https://localhost:8080/",
          "height": 200
        },
        "id": "8wJR7ioUfsqy",
        "outputId": "ec9922b3-1ab3-4842-9f89-17e8dd31daf6"
      },
      "execution_count": null,
      "outputs": [
        {
          "output_type": "error",
          "ename": "NameError",
          "evalue": "ignored",
          "traceback": [
            "\u001b[0;31m---------------------------------------------------------------------------\u001b[0m",
            "\u001b[0;31mNameError\u001b[0m                                 Traceback (most recent call last)",
            "\u001b[0;32m<ipython-input-46-bf0b584049ce>\u001b[0m in \u001b[0;36m<module>\u001b[0;34m()\u001b[0m\n\u001b[1;32m      1\u001b[0m \u001b[0mcolours\u001b[0m\u001b[0;34m=\u001b[0m\u001b[0;34m[\u001b[0m\u001b[0;34m\"red\"\u001b[0m\u001b[0;34m,\u001b[0m\u001b[0;34m\"green\"\u001b[0m\u001b[0;34m,\u001b[0m\u001b[0;34m\"blue\"\u001b[0m\u001b[0;34m]\u001b[0m\u001b[0;34m\u001b[0m\u001b[0;34m\u001b[0m\u001b[0m\n\u001b[1;32m      2\u001b[0m \u001b[0;32mdel\u001b[0m \u001b[0mcolours\u001b[0m\u001b[0;34m\u001b[0m\u001b[0;34m\u001b[0m\u001b[0m\n\u001b[0;32m----> 3\u001b[0;31m \u001b[0mprint\u001b[0m\u001b[0;34m(\u001b[0m\u001b[0mcolours\u001b[0m\u001b[0;34m)\u001b[0m\u001b[0;34m\u001b[0m\u001b[0;34m\u001b[0m\u001b[0m\n\u001b[0m",
            "\u001b[0;31mNameError\u001b[0m: name 'colours' is not defined"
          ]
        }
      ]
    },
    {
      "cell_type": "code",
      "source": [
        "colours=[\"red\",\"green\",\"blue\"]\n",
        "colours.clear()\n",
        "print(colours)"
      ],
      "metadata": {
        "colab": {
          "base_uri": "https://localhost:8080/"
        },
        "id": "VgnBRL5Cf1cl",
        "outputId": "ff6d304b-23d2-4ae2-c4ee-f6816613de13"
      },
      "execution_count": null,
      "outputs": [
        {
          "output_type": "stream",
          "name": "stdout",
          "text": [
            "[]\n"
          ]
        }
      ]
    },
    {
      "cell_type": "markdown",
      "source": [
        "**loops**"
      ],
      "metadata": {
        "id": "3kJgY5WKgDgq"
      }
    },
    {
      "cell_type": "code",
      "source": [
        "colours=[\"red\",\"green\",\"blue\"]\n",
        "for x in colours:\n",
        " print(x)"
      ],
      "metadata": {
        "colab": {
          "base_uri": "https://localhost:8080/"
        },
        "id": "jwghAfPNgFsz",
        "outputId": "b9107c7e-5e0d-4ec8-ccb0-eb2e82b69050"
      },
      "execution_count": null,
      "outputs": [
        {
          "output_type": "stream",
          "name": "stdout",
          "text": [
            "red\n",
            "green\n",
            "blue\n"
          ]
        }
      ]
    },
    {
      "cell_type": "code",
      "source": [
        "colours = [\"red\", \"green\", \"blue\"]\n",
        "for i in range(len(colours)):\n",
        "  print(colours[i])\n"
      ],
      "metadata": {
        "colab": {
          "base_uri": "https://localhost:8080/"
        },
        "id": "XDbAKLr5gSzq",
        "outputId": "827d7e5c-0bf2-4a76-cd72-97615856201e"
      },
      "execution_count": null,
      "outputs": [
        {
          "output_type": "stream",
          "name": "stdout",
          "text": [
            "red\n",
            "green\n",
            "blue\n"
          ]
        }
      ]
    },
    {
      "cell_type": "markdown",
      "source": [
        "**while loop**"
      ],
      "metadata": {
        "id": "gLdD775EghiY"
      }
    },
    {
      "cell_type": "code",
      "source": [
        "colours = [\"red\", \"green\", \"blue\"]\n",
        "i = 0\n",
        "while i < len(colours):\n",
        "  print(colours[i])\n",
        "  i = i + 1\n"
      ],
      "metadata": {
        "colab": {
          "base_uri": "https://localhost:8080/"
        },
        "id": "HseqDEIhgj_z",
        "outputId": "e2969bd0-c671-49a7-c39d-c1904a0d9df1"
      },
      "execution_count": null,
      "outputs": [
        {
          "output_type": "stream",
          "name": "stdout",
          "text": [
            "red\n",
            "green\n",
            "blue\n"
          ]
        }
      ]
    },
    {
      "cell_type": "markdown",
      "source": [
        "**list comphernsion**"
      ],
      "metadata": {
        "id": "Z7jfBGVFg_HH"
      }
    },
    {
      "cell_type": "code",
      "source": [
        "colours = [\"red\", \"blue\", \"pink\", \"black\", \"violet\"]\n",
        "newlist = []\n",
        "\n",
        "for x in colours:\n",
        "  if \"a\" in x:\n",
        "    newlist.append(x)\n",
        "\n",
        "print(newlist)\n"
      ],
      "metadata": {
        "colab": {
          "base_uri": "https://localhost:8080/"
        },
        "id": "uR_nugIDhB-P",
        "outputId": "4b631609-0af5-44fc-86b6-c8f7fa67829f"
      },
      "execution_count": null,
      "outputs": [
        {
          "output_type": "stream",
          "name": "stdout",
          "text": [
            "['black']\n"
          ]
        }
      ]
    },
    {
      "cell_type": "code",
      "source": [
        "colours = [\"red\", \"blue\", \"pink\", \"black\", \"violet\"]\n",
        "newlist = [x for x in colours if x != \"red\"]\n",
        "print(newlist)"
      ],
      "metadata": {
        "colab": {
          "base_uri": "https://localhost:8080/"
        },
        "id": "0sHssAm6hahF",
        "outputId": "120e1e56-8bbc-4d79-ecee-c46b4fedd324"
      },
      "execution_count": null,
      "outputs": [
        {
          "output_type": "stream",
          "name": "stdout",
          "text": [
            "['blue', 'pink', 'black', 'violet']\n"
          ]
        }
      ]
    },
    {
      "cell_type": "code",
      "source": [
        "colours = [\"red\", \"blue\", \"pink\", \"black\", \"violet\"]\n",
        "newlist = [x for x in colours]\n",
        "print(newlist)\n"
      ],
      "metadata": {
        "colab": {
          "base_uri": "https://localhost:8080/"
        },
        "id": "REHgFPtjha21",
        "outputId": "8852d531-d3be-4c60-a7b3-1c51d7a3170d"
      },
      "execution_count": null,
      "outputs": [
        {
          "output_type": "stream",
          "name": "stdout",
          "text": [
            "['red', 'blue', 'pink', 'black', 'violet']\n"
          ]
        }
      ]
    },
    {
      "cell_type": "markdown",
      "source": [
        "**itreable**"
      ],
      "metadata": {
        "id": "nLxJC7eliIe-"
      }
    },
    {
      "cell_type": "code",
      "source": [
        "newlist = [x for x in range(10)]\n",
        "\n",
        "print(newlist)\n"
      ],
      "metadata": {
        "colab": {
          "base_uri": "https://localhost:8080/"
        },
        "id": "XnzEDHdWiK2i",
        "outputId": "6286a455-e847-47c4-85a6-2c8dd535d598"
      },
      "execution_count": null,
      "outputs": [
        {
          "output_type": "stream",
          "name": "stdout",
          "text": [
            "[0, 1, 2, 3, 4, 5, 6, 7, 8, 9]\n"
          ]
        }
      ]
    },
    {
      "cell_type": "code",
      "source": [
        "newlist = [x for x in range(10) if x < 5]\n",
        "\n",
        "print(newlist)\n"
      ],
      "metadata": {
        "colab": {
          "base_uri": "https://localhost:8080/"
        },
        "id": "JsEhBH66iSV1",
        "outputId": "4080446a-04ae-4e18-9b41-7a2e03ac2408"
      },
      "execution_count": null,
      "outputs": [
        {
          "output_type": "stream",
          "name": "stdout",
          "text": [
            "[0, 1, 2, 3, 4]\n"
          ]
        }
      ]
    },
    {
      "cell_type": "markdown",
      "source": [
        "**experssion**"
      ],
      "metadata": {
        "id": "NTqV3achiX2d"
      }
    },
    {
      "cell_type": "code",
      "source": [
        "colours = [\"red\", \"blue\", \"pink\", \"black\", \"violet\"]\n",
        "newlist = [x.upper() for x in colours]\n",
        "\n",
        "print(newlist)\n"
      ],
      "metadata": {
        "colab": {
          "base_uri": "https://localhost:8080/"
        },
        "id": "lDog3MhAibfN",
        "outputId": "b806936d-fda5-4bee-a95e-57668f0c91f1"
      },
      "execution_count": null,
      "outputs": [
        {
          "output_type": "stream",
          "name": "stdout",
          "text": [
            "['RED', 'BLUE', 'PINK', 'BLACK', 'VIOLET']\n"
          ]
        }
      ]
    },
    {
      "cell_type": "code",
      "source": [
        "colours = [\"red\", \"blue\", \"pink\", \"black\", \"violet\"]\n",
        "\n",
        "newlist = ['hello' for x in colours]\n",
        "\n",
        "print(newlist)\n"
      ],
      "metadata": {
        "colab": {
          "base_uri": "https://localhost:8080/"
        },
        "id": "mBIJdETqiwrM",
        "outputId": "2ac4b54c-c154-4e81-ddf6-2d028667a16d"
      },
      "execution_count": null,
      "outputs": [
        {
          "output_type": "stream",
          "name": "stdout",
          "text": [
            "['hello', 'hello', 'hello', 'hello', 'hello']\n"
          ]
        }
      ]
    },
    {
      "cell_type": "markdown",
      "source": [
        "**sort lists**"
      ],
      "metadata": {
        "id": "PCwEoJdpi-3-"
      }
    },
    {
      "cell_type": "code",
      "source": [
        "colours = [\"red\", \"blue\", \"pink\", \"black\", \"violet\"]\n",
        "\n",
        "\n",
        "thislist.sort()\n",
        "\n",
        "print(thislist)\n"
      ],
      "metadata": {
        "colab": {
          "base_uri": "https://localhost:8080/"
        },
        "id": "GlyZEU5CjB9G",
        "outputId": "a0267f10-8946-4a9e-c099-43cd6f1b32e5"
      },
      "execution_count": null,
      "outputs": [
        {
          "output_type": "stream",
          "name": "stdout",
          "text": [
            "['apple', 'banana', 'cherry', 'mango', 'papaya', 'pineapple']\n"
          ]
        }
      ]
    },
    {
      "cell_type": "markdown",
      "source": [
        "**sort descending**"
      ],
      "metadata": {
        "id": "b9PjA_uSjbZS"
      }
    },
    {
      "cell_type": "code",
      "source": [
        "colours = [\"red\", \"blue\", \"pink\", \"black\", \"violet\"]\n",
        "thislist.sort(reverse = True)\n",
        "print(thislist)\n"
      ],
      "metadata": {
        "colab": {
          "base_uri": "https://localhost:8080/"
        },
        "id": "p-yL1UBFjfod",
        "outputId": "01203b7a-669c-46f3-af68-485474748fcc"
      },
      "execution_count": null,
      "outputs": [
        {
          "output_type": "stream",
          "name": "stdout",
          "text": [
            "['pineapple', 'papaya', 'mango', 'cherry', 'banana', 'apple']\n"
          ]
        }
      ]
    },
    {
      "cell_type": "markdown",
      "source": [
        "**customize sort function**"
      ],
      "metadata": {
        "id": "wl603O7njtFL"
      }
    },
    {
      "cell_type": "code",
      "source": [
        "def myfunc(n):\n",
        "  return abs(n - 50)\n",
        "thislist = [100, 50, 65, 82, 23]\n",
        "thislist.sort(key = myfunc)\n",
        "print(thislist)\n"
      ],
      "metadata": {
        "colab": {
          "base_uri": "https://localhost:8080/"
        },
        "id": "5D6bPxVfjxsF",
        "outputId": "e583435a-5ab1-4330-ec46-ea730f328a48"
      },
      "execution_count": null,
      "outputs": [
        {
          "output_type": "stream",
          "name": "stdout",
          "text": [
            "[50, 65, 23, 82, 100]\n"
          ]
        }
      ]
    },
    {
      "cell_type": "markdown",
      "source": [
        "**case insenstive**"
      ],
      "metadata": {
        "id": "DvHxbFpKj81t"
      }
    },
    {
      "cell_type": "code",
      "source": [
        "colours = [\"red\", \"blue\", \"pink\", \"black\", \"violet\"]\n",
        "colours.sort()\n",
        "print(colours)\n"
      ],
      "metadata": {
        "colab": {
          "base_uri": "https://localhost:8080/"
        },
        "id": "CJoTr6jBkA94",
        "outputId": "8ceb1a8c-0fcb-4819-993f-96a25389e66c"
      },
      "execution_count": null,
      "outputs": [
        {
          "output_type": "stream",
          "name": "stdout",
          "text": [
            "['black', 'blue', 'pink', 'red', 'violet']\n"
          ]
        }
      ]
    },
    {
      "cell_type": "markdown",
      "source": [
        "**reverse order**"
      ],
      "metadata": {
        "id": "wxK96AGhkPXv"
      }
    },
    {
      "cell_type": "code",
      "source": [
        "colours = [\"red\", \"blue\", \"pink\", \"black\", \"violet\"]\n",
        "colours.reverse()\n",
        "print(colours) \n"
      ],
      "metadata": {
        "colab": {
          "base_uri": "https://localhost:8080/"
        },
        "id": "6lzRX6H6kRli",
        "outputId": "5f702bcc-0125-4ab4-8390-467e4e68fa3f"
      },
      "execution_count": null,
      "outputs": [
        {
          "output_type": "stream",
          "name": "stdout",
          "text": [
            "['violet', 'black', 'pink', 'blue', 'red']\n"
          ]
        }
      ]
    },
    {
      "cell_type": "markdown",
      "source": [
        "**copy a list**"
      ],
      "metadata": {
        "id": "xV4kvhI2klP8"
      }
    },
    {
      "cell_type": "code",
      "source": [
        "colours = [\"red\", \"blue\", \"pink\", \"black\", \"violet\"]\n",
        "mylist = colours.copy()\n",
        "print(mylist)\n"
      ],
      "metadata": {
        "colab": {
          "base_uri": "https://localhost:8080/"
        },
        "id": "FXSdcY0tknHF",
        "outputId": "60cf7d35-0d87-4bcc-b4b4-e0168ce3e7af"
      },
      "execution_count": null,
      "outputs": [
        {
          "output_type": "stream",
          "name": "stdout",
          "text": [
            "['red', 'blue', 'pink', 'black', 'violet']\n"
          ]
        }
      ]
    },
    {
      "cell_type": "markdown",
      "source": [
        "**joint lists**"
      ],
      "metadata": {
        "id": "c4t7ZfP3k0Uc"
      }
    },
    {
      "cell_type": "code",
      "source": [
        "list1 = [\"a\", \"b\", \"c\"]\n",
        "list2 = [1, 2, 3]\n",
        "list3 = list1 + list2\n",
        "print(list3)\n"
      ],
      "metadata": {
        "colab": {
          "base_uri": "https://localhost:8080/"
        },
        "id": "wIYc5oytk2iL",
        "outputId": "825e5d27-e80c-493c-d055-d64ee95eb133"
      },
      "execution_count": null,
      "outputs": [
        {
          "output_type": "stream",
          "name": "stdout",
          "text": [
            "['a', 'b', 'c', 1, 2, 3]\n"
          ]
        }
      ]
    },
    {
      "cell_type": "code",
      "source": [
        "list1 = [\"a\", \"b\" , \"c\"]\n",
        "list2 = [1, 2, 3]\n",
        "for x in list2:\n",
        "  list1.append(x)\n",
        "print(list1)\n"
      ],
      "metadata": {
        "colab": {
          "base_uri": "https://localhost:8080/"
        },
        "id": "5vLwgSkek9lw",
        "outputId": "8140ccf8-1055-45c8-dde7-a5f6882a6245"
      },
      "execution_count": null,
      "outputs": [
        {
          "output_type": "stream",
          "name": "stdout",
          "text": [
            "['a', 'b', 'c', 1, 2, 3]\n"
          ]
        }
      ]
    },
    {
      "cell_type": "code",
      "source": [
        "list1 = [\"a\", \"b\" , \"c\"]\n",
        "list2 = [1, 2, 3]\n",
        "list1.extend(list2)\n",
        "print(list1)"
      ],
      "metadata": {
        "colab": {
          "base_uri": "https://localhost:8080/"
        },
        "id": "x49QmbuEk9o0",
        "outputId": "fa169515-529f-4dd5-e6e1-0181a2799faa"
      },
      "execution_count": null,
      "outputs": [
        {
          "output_type": "stream",
          "name": "stdout",
          "text": [
            "['a', 'b', 'c', 1, 2, 3]\n"
          ]
        }
      ]
    }
  ]
}